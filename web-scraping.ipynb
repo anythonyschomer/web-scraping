{
 "cells": [
  {
   "cell_type": "markdown",
   "metadata": {},
   "source": [
    "# Web Mining and Applied NLP (44-620)\n",
    "\n",
    "## Web Scraping and NLP with Requests, BeautifulSoup, and spaCy\n",
    "\n",
    "### Student Name: Anthony Schomer \n",
    "### https://github.com/anythonyschomer/web-scraping\n",
    "\n",
    "Perform the tasks described in the Markdown cells below.  When you have completed the assignment make sure your code cells have all been run (and have output beneath them) and ensure you have committed and pushed ALL of your changes to your assignment repository.\n",
    "\n",
    "Every question that requires you to write code will have a code cell underneath it; you may either write your entire solution in that cell or write it in a python file (`.py`), then import and run the appropriate code to answer the question."
   ]
  },
  {
   "cell_type": "markdown",
   "metadata": {},
   "source": [
    "1. Write code that extracts the article html from https://web.archive.org/web/20210327165005/https://hackaday.com/2021/03/22/how-laser-headlights-work/ and dumps it to a .pkl (or other appropriate file)"
   ]
  },
  {
   "cell_type": "code",
   "execution_count": 5,
   "metadata": {},
   "outputs": [
    {
     "ename": "SyntaxError",
     "evalue": "invalid syntax (4067445872.py, line 3)",
     "output_type": "error",
     "traceback": [
      "\u001b[1;36m  Cell \u001b[1;32mIn[5], line 3\u001b[1;36m\u001b[0m\n\u001b[1;33m    Complete the tasks in the Python Notebook in this repository.\u001b[0m\n\u001b[1;37m             ^\u001b[0m\n\u001b[1;31mSyntaxError\u001b[0m\u001b[1;31m:\u001b[0m invalid syntax\n"
     ]
    }
   ],
   "source": [
    "# Web Scraping and NLP with Requests, BeautifulSoup, and spaCy\n",
    "\n",
    "Complete the tasks in the Python Notebook in this repository.\n",
    "Make sure to add and push the pkl or text file of your scraped html (this is specified in the notebook)\n",
    "\n",
    "## Rubric\n",
    "\n",
    "* (Question 1) Article html stored in separate file that is committed and pushed: 1 pt\n",
    "* (Question 2) Article text is correct: 1 pt\n",
    "* (Question 3) Correct (or equivalent in the case of multiple tokens with same frequency) tokens printed: 1 pt\n",
    "* (Question 4) Correct (or equivalent in the case of multiple lemmas with same frequency) lemmas printed: 1 pt\n",
    "* (Question 5) Correct scores for first sentence printed: 2 pts (1 / function)\n",
    "* (Question 6) Histogram shown with appropriate labelling: 1 pt\n",
    "* (Question 7) Histogram shown with appropriate labelling: 1 pt\n",
    "* (Question 8) Thoughtful answer provided: 1 pt\n",
    "\n",
    "\n",
    "from collections import Counter\n",
    "   import pickle\n",
    "   import requests\n",
    "   import spaCy\n",
    "   from bs4 import BeautifulSoup\n",
    "   import matplotlib.pyplot as plt\n",
    "   \n",
    "   \n",
    "   \n",
    "    # Using the Counter class from collections module\n",
    "   my_list = [1, 2, 3, 3, 3, 4, 4, 5]\n",
    "   counter = Counter(my_list)\n",
    "   print(counter)\n",
    "\n",
    "   # Using the pickle module\n",
    "   data = {'name': 'John', 'age': 30}\n",
    "   with open('data.pkl', 'wb') as f:\n",
    "       pickle.dump(data, f)\n",
    "\n",
    "   # Using the requests module\n",
    "   response = requests.get('https://example.com')\n",
    "   print(response.status_code)\n",
    "\n",
    "   # Using the spacy library\n",
    "   nlp = spaCy.load('en_core_web_sm')\n",
    "   doc = nlp('This is an example sentence')\n",
    "   print([token.text for token in doc])\n",
    "\n",
    "   # Using the BeautifulSoup class from bs4 module\n",
    "   html='Title'\n",
    "   soup = BeautifulSoup(html,'html.parser')\n",
    "   print(soup.title.text)\n",
    "\n",
    "   # Using the pyplot module from matplotlib\n",
    "   x = [1, 2, 3, 4, 5]\n",
    "   y = [1, 4, 9, 16, 25]\n",
    "   plt.plot(x, y)\n",
    "   plt.show()"
   ]
  },
  {
   "cell_type": "markdown",
   "metadata": {},
   "source": [
    "2. Read in your article's html source from the file you created in question 1 and print it's text (use `.get_text()`)"
   ]
  },
  {
   "cell_type": "code",
   "execution_count": null,
   "metadata": {},
   "outputs": [],
   "source": []
  },
  {
   "cell_type": "markdown",
   "metadata": {},
   "source": [
    "3. Load the article text into a trained `spaCy` pipeline, and determine the 5 most frequent tokens (converted to lower case).  Print the common tokens with an appropriate label.  Additionally, print the tokens their frequencies (with appropriate labels). Make sure to remove things we don't care about (punctuation, stopwords, whitespace)."
   ]
  },
  {
   "cell_type": "code",
   "execution_count": null,
   "metadata": {},
   "outputs": [],
   "source": []
  },
  {
   "cell_type": "markdown",
   "metadata": {},
   "source": [
    "4. Load the article text into a trained `spaCy` pipeline, and determine the 5 most frequent lemmas (converted to lower case).  Print the common lemmas with an appropriate label.  Additionally, print the lemmas with their frequencies (with appropriate labels). Make sure to remove things we don't care about (punctuation, stopwords, whitespace)."
   ]
  },
  {
   "cell_type": "code",
   "execution_count": null,
   "metadata": {},
   "outputs": [],
   "source": []
  },
  {
   "cell_type": "markdown",
   "metadata": {},
   "source": [
    "5. Define the following methods:\n",
    "    * `score_sentence_by_token(sentence, interesting_token)` that takes a sentence and a list of interesting token and returns the number of times that any of the interesting words appear in the sentence divided by the number of words in the sentence\n",
    "    * `score_sentence_by_lemma(sentence, interesting_lemmas)` that takes a sentence and a list of interesting lemmas and returns the number of times that any of the interesting lemmas appear in the sentence divided by the number of words in the sentence\n",
    "    \n",
    "You may find some of the code from the in class notes useful; feel free to use methods (rewrite them in this cell as well).  Test them by showing the score of the first sentence in your article using the frequent tokens and frequent lemmas identified in question 3."
   ]
  },
  {
   "cell_type": "code",
   "execution_count": null,
   "metadata": {},
   "outputs": [],
   "source": []
  },
  {
   "cell_type": "markdown",
   "metadata": {},
   "source": [
    "6. Make a list containing the scores (using tokens) of every sentence in the article, and plot a histogram with appropriate titles and axis labels of the scores. From your histogram, what seems to be the most common range of scores (put the answer in a comment after your code)?"
   ]
  },
  {
   "cell_type": "code",
   "execution_count": null,
   "metadata": {},
   "outputs": [],
   "source": []
  },
  {
   "cell_type": "markdown",
   "metadata": {},
   "source": [
    "7. Make a list containing the scores (using lemmas) of every sentence in the article, and plot a histogram with appropriate titles and axis labels of the scores.  From your histogram, what seems to be the most common range of scores (put the answer in a comment after your code)?"
   ]
  },
  {
   "cell_type": "code",
   "execution_count": null,
   "metadata": {},
   "outputs": [],
   "source": []
  },
  {
   "cell_type": "markdown",
   "metadata": {},
   "source": [
    "8. Which tokens and lexems would be ommitted from the lists generated in questions 3 and 4 if we only wanted to consider nouns as interesting words?  How might we change the code to only consider nouns? Put your answer in this Markdown cell (you can edit it by double clicking it)."
   ]
  }
 ],
 "metadata": {
  "kernelspec": {
   "display_name": "Python 3",
   "language": "python",
   "name": "python3"
  },
  "language_info": {
   "codemirror_mode": {
    "name": "ipython",
    "version": 3
   },
   "file_extension": ".py",
   "mimetype": "text/x-python",
   "name": "python",
   "nbconvert_exporter": "python",
   "pygments_lexer": "ipython3",
   "version": "3.10.11"
  }
 },
 "nbformat": 4,
 "nbformat_minor": 4
}
